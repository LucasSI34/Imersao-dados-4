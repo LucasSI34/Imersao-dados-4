{
 "cells": [
  {
   "cell_type": "markdown",
   "id": "5481723d",
   "metadata": {},
   "source": [
    "# IMERSÃO DADOS 4 - VALORES DE IMÓVEIS"
   ]
  },
  {
   "cell_type": "markdown",
   "id": "07acea99",
   "metadata": {},
   "source": [
    "### DIA 01"
   ]
  },
  {
   "cell_type": "markdown",
   "id": "eccb493f",
   "metadata": {},
   "source": [
    "## IMPORTAÇÃO DE BIBLIOTECAS"
   ]
  },
  {
   "cell_type": "code",
   "execution_count": 37,
   "id": "e04e8ba8",
   "metadata": {},
   "outputs": [],
   "source": [
    "import pandas as pd\n",
    "import seaborn as sns\n",
    "import matplotlib.pyplot as plt"
   ]
  },
  {
   "cell_type": "markdown",
   "id": "d915f48e",
   "metadata": {},
   "source": [
    "## IMPORTAÇÃO DO DATASET"
   ]
  },
  {
   "cell_type": "code",
   "execution_count": 38,
   "id": "8bc1b5b0",
   "metadata": {},
   "outputs": [
    {
     "data": {
      "text/html": [
       "<div>\n",
       "<style scoped>\n",
       "    .dataframe tbody tr th:only-of-type {\n",
       "        vertical-align: middle;\n",
       "    }\n",
       "\n",
       "    .dataframe tbody tr th {\n",
       "        vertical-align: top;\n",
       "    }\n",
       "\n",
       "    .dataframe thead th {\n",
       "        text-align: right;\n",
       "    }\n",
       "</style>\n",
       "<table border=\"1\" class=\"dataframe\">\n",
       "  <thead>\n",
       "    <tr style=\"text-align: right;\">\n",
       "      <th></th>\n",
       "      <th>Rua</th>\n",
       "      <th>Bairro</th>\n",
       "      <th>Cidade</th>\n",
       "      <th>Metragem</th>\n",
       "      <th>Quartos</th>\n",
       "      <th>Banheiros</th>\n",
       "      <th>Vagas</th>\n",
       "      <th>Valor</th>\n",
       "    </tr>\n",
       "  </thead>\n",
       "  <tbody>\n",
       "    <tr>\n",
       "      <th>0</th>\n",
       "      <td>Avenida Itacira, 255</td>\n",
       "      <td>Planalto Paulista</td>\n",
       "      <td>São Paulo</td>\n",
       "      <td>1000</td>\n",
       "      <td>4</td>\n",
       "      <td>8</td>\n",
       "      <td>6</td>\n",
       "      <td>R$ 7.000.000</td>\n",
       "    </tr>\n",
       "    <tr>\n",
       "      <th>1</th>\n",
       "      <td>Rua Aurelia Perez Alvarez, 42</td>\n",
       "      <td>Jardim dos Estados</td>\n",
       "      <td>São Paulo</td>\n",
       "      <td>496</td>\n",
       "      <td>4</td>\n",
       "      <td>4</td>\n",
       "      <td>4</td>\n",
       "      <td>R$ 3.700.000</td>\n",
       "    </tr>\n",
       "    <tr>\n",
       "      <th>2</th>\n",
       "      <td>Rua Alba Valdez</td>\n",
       "      <td>Jardim Reimberg</td>\n",
       "      <td>São Paulo</td>\n",
       "      <td>125</td>\n",
       "      <td>4</td>\n",
       "      <td>3</td>\n",
       "      <td>2</td>\n",
       "      <td>R$ 380.000</td>\n",
       "    </tr>\n",
       "    <tr>\n",
       "      <th>3</th>\n",
       "      <td>NaN</td>\n",
       "      <td>Jardim Morumbi</td>\n",
       "      <td>São Paulo</td>\n",
       "      <td>310</td>\n",
       "      <td>3</td>\n",
       "      <td>2</td>\n",
       "      <td>4</td>\n",
       "      <td>R$ 685.000</td>\n",
       "    </tr>\n",
       "    <tr>\n",
       "      <th>4</th>\n",
       "      <td>Rua Tobias Barreto, 195</td>\n",
       "      <td>Mooca</td>\n",
       "      <td>São Paulo</td>\n",
       "      <td>100</td>\n",
       "      <td>3</td>\n",
       "      <td>2</td>\n",
       "      <td>2</td>\n",
       "      <td>R$ 540.000</td>\n",
       "    </tr>\n",
       "    <tr>\n",
       "      <th>5</th>\n",
       "      <td>Rua Graham Bell</td>\n",
       "      <td>Santo Amaro</td>\n",
       "      <td>São Paulo</td>\n",
       "      <td>440</td>\n",
       "      <td>4</td>\n",
       "      <td>4</td>\n",
       "      <td>6</td>\n",
       "      <td>R$ 1.980.000</td>\n",
       "    </tr>\n",
       "    <tr>\n",
       "      <th>6</th>\n",
       "      <td>Rua Francisco Paulo, 31</td>\n",
       "      <td>Cidade Mãe do Céu</td>\n",
       "      <td>São Paulo</td>\n",
       "      <td>145</td>\n",
       "      <td>4</td>\n",
       "      <td>4</td>\n",
       "      <td>2</td>\n",
       "      <td>R$ 850.000</td>\n",
       "    </tr>\n",
       "    <tr>\n",
       "      <th>7</th>\n",
       "      <td>Rua Guilherme Valente, 150</td>\n",
       "      <td>Jardim Vergueiro</td>\n",
       "      <td>São Paulo</td>\n",
       "      <td>150</td>\n",
       "      <td>2</td>\n",
       "      <td>2</td>\n",
       "      <td>2</td>\n",
       "      <td>R$ 450.000</td>\n",
       "    </tr>\n",
       "    <tr>\n",
       "      <th>8</th>\n",
       "      <td>Rua Sagrada Família, 8</td>\n",
       "      <td>Jardim Benfica</td>\n",
       "      <td>São Paulo</td>\n",
       "      <td>48</td>\n",
       "      <td>2</td>\n",
       "      <td>1</td>\n",
       "      <td>1</td>\n",
       "      <td>R$ 199.900</td>\n",
       "    </tr>\n",
       "    <tr>\n",
       "      <th>9</th>\n",
       "      <td>Rua Tapaji</td>\n",
       "      <td>Vila Alpina</td>\n",
       "      <td>São Paulo</td>\n",
       "      <td>114</td>\n",
       "      <td>3</td>\n",
       "      <td>3</td>\n",
       "      <td>2</td>\n",
       "      <td>R$ 585.000</td>\n",
       "    </tr>\n",
       "    <tr>\n",
       "      <th>10</th>\n",
       "      <td>Rua Vigário João Álvares, 66</td>\n",
       "      <td>Vila Monumento</td>\n",
       "      <td>São Paulo</td>\n",
       "      <td>261</td>\n",
       "      <td>4</td>\n",
       "      <td>4</td>\n",
       "      <td>3</td>\n",
       "      <td>R$ 700.000</td>\n",
       "    </tr>\n",
       "  </tbody>\n",
       "</table>\n",
       "</div>"
      ],
      "text/plain": [
       "                               Rua              Bairro     Cidade  Metragem  \\\n",
       "0            Avenida Itacira, 255    Planalto Paulista  São Paulo      1000   \n",
       "1   Rua Aurelia Perez Alvarez, 42   Jardim dos Estados  São Paulo       496   \n",
       "2                  Rua Alba Valdez     Jardim Reimberg  São Paulo       125   \n",
       "3                              NaN      Jardim Morumbi  São Paulo       310   \n",
       "4         Rua Tobias Barreto, 195                Mooca  São Paulo       100   \n",
       "5                  Rua Graham Bell         Santo Amaro  São Paulo       440   \n",
       "6         Rua Francisco Paulo, 31    Cidade Mãe do Céu  São Paulo       145   \n",
       "7      Rua Guilherme Valente, 150     Jardim Vergueiro  São Paulo       150   \n",
       "8          Rua Sagrada Família, 8       Jardim Benfica  São Paulo        48   \n",
       "9                       Rua Tapaji         Vila Alpina  São Paulo       114   \n",
       "10   Rua Vigário João Álvares, 66       Vila Monumento  São Paulo       261   \n",
       "\n",
       "    Quartos  Banheiros  Vagas         Valor  \n",
       "0         4          8      6  R$ 7.000.000  \n",
       "1         4          4      4  R$ 3.700.000  \n",
       "2         4          3      2    R$ 380.000  \n",
       "3         3          2      4    R$ 685.000  \n",
       "4         3          2      2    R$ 540.000  \n",
       "5         4          4      6  R$ 1.980.000  \n",
       "6         4          4      2    R$ 850.000  \n",
       "7         2          2      2    R$ 450.000  \n",
       "8         2          1      1    R$ 199.900  \n",
       "9         3          3      2    R$ 585.000  \n",
       "10        4          4      3    R$ 700.000  "
      ]
     },
     "execution_count": 38,
     "metadata": {},
     "output_type": "execute_result"
    }
   ],
   "source": [
    "link = 'https://gist.githubusercontent.com/tgcsantos/3bdb29eba6ce391e90df2b72205ba891/raw/22fa920e80c9fa209a9fccc8b52d74cc95d1599b/dados_imoveis.csv'\n",
    "dataset = pd.read_csv(link)\n",
    "dataset.head(11)"
   ]
  },
  {
   "cell_type": "code",
   "execution_count": 39,
   "id": "60dce0db",
   "metadata": {},
   "outputs": [
    {
     "name": "stdout",
     "output_type": "stream",
     "text": [
      "O dataset possui 10008 linhas e 8 colunas\n"
     ]
    }
   ],
   "source": [
    "#Visualizar o tamanho do dataset\n",
    "print(f'O dataset possui {dataset.shape[0]} linhas e {dataset.shape[1]} colunas')"
   ]
  },
  {
   "cell_type": "code",
   "execution_count": 40,
   "id": "4e6303cf",
   "metadata": {},
   "outputs": [
    {
     "data": {
      "text/plain": [
       "array(['Rua', 'Bairro', 'Cidade', 'Metragem', 'Quartos', 'Banheiros',\n",
       "       'Vagas', 'Valor'], dtype=object)"
      ]
     },
     "execution_count": 40,
     "metadata": {},
     "output_type": "execute_result"
    }
   ],
   "source": [
    "#Visualizar as colunas do dataset\n",
    "dataset.columns.values"
   ]
  },
  {
   "cell_type": "code",
   "execution_count": 41,
   "id": "c6e504f8",
   "metadata": {
    "scrolled": true
   },
   "outputs": [
    {
     "name": "stdout",
     "output_type": "stream",
     "text": [
      "<class 'pandas.core.frame.DataFrame'>\n",
      "RangeIndex: 10008 entries, 0 to 10007\n",
      "Data columns (total 8 columns):\n",
      " #   Column     Non-Null Count  Dtype \n",
      "---  ------     --------------  ----- \n",
      " 0   Rua        6574 non-null   object\n",
      " 1   Bairro     9996 non-null   object\n",
      " 2   Cidade     10008 non-null  object\n",
      " 3   Metragem   10008 non-null  int64 \n",
      " 4   Quartos    10008 non-null  int64 \n",
      " 5   Banheiros  10008 non-null  int64 \n",
      " 6   Vagas      10008 non-null  int64 \n",
      " 7   Valor      10008 non-null  object\n",
      "dtypes: int64(4), object(4)\n",
      "memory usage: 625.6+ KB\n"
     ]
    }
   ],
   "source": [
    "#Visualizar algumas informações em geral\n",
    "dataset.info()"
   ]
  },
  {
   "cell_type": "code",
   "execution_count": 42,
   "id": "58fce731",
   "metadata": {},
   "outputs": [
    {
     "data": {
      "text/plain": [
       "Rua          3434\n",
       "Bairro         12\n",
       "Cidade          0\n",
       "Metragem        0\n",
       "Quartos         0\n",
       "Banheiros       0\n",
       "Vagas           0\n",
       "Valor           0\n",
       "dtype: int64"
      ]
     },
     "execution_count": 42,
     "metadata": {},
     "output_type": "execute_result"
    }
   ],
   "source": [
    "#Visualizar quantidades de valores nulos\n",
    "dataset.isnull().sum()"
   ]
  },
  {
   "cell_type": "code",
   "execution_count": 43,
   "id": "fc04d7ad",
   "metadata": {},
   "outputs": [
    {
     "data": {
      "text/plain": [
       "<AxesSubplot:>"
      ]
     },
     "execution_count": 43,
     "metadata": {},
     "output_type": "execute_result"
    },
    {
     "data": {
      "image/png": "[encoded data removed]",
      "text/plain": [
       "<Figure size 432x288 with 1 Axes>"
      ]
     },
     "metadata": {
      "needs_background": "light"
     },
     "output_type": "display_data"
    }
   ],
   "source": [
    "#Plot simples de um grafico de barra com os 10 bairros que mais aparecem no dataset\n",
    "qtd_bairros = dataset['Bairro'].value_counts()\n",
    "qtd_bairros.head(10).plot.bar()"
   ]
  },
  {
   "cell_type": "markdown",
   "id": "3c4171ff",
   "metadata": {},
   "source": [
    "### DIA 02 - TRATAMENTO DE DADOS"
   ]
  },
  {
   "cell_type": "code",
   "execution_count": 44,
   "id": "ded6b549",
   "metadata": {},
   "outputs": [
    {
     "data": {
      "text/html": [
       "<div>\n",
       "<style scoped>\n",
       "    .dataframe tbody tr th:only-of-type {\n",
       "        vertical-align: middle;\n",
       "    }\n",
       "\n",
       "    .dataframe tbody tr th {\n",
       "        vertical-align: top;\n",
       "    }\n",
       "\n",
       "    .dataframe thead th {\n",
       "        text-align: right;\n",
       "    }\n",
       "</style>\n",
       "<table border=\"1\" class=\"dataframe\">\n",
       "  <thead>\n",
       "    <tr style=\"text-align: right;\">\n",
       "      <th></th>\n",
       "      <th>Rua</th>\n",
       "      <th>Bairro</th>\n",
       "      <th>Cidade</th>\n",
       "      <th>Metragem</th>\n",
       "      <th>Quartos</th>\n",
       "      <th>Banheiros</th>\n",
       "      <th>Vagas</th>\n",
       "      <th>Valor</th>\n",
       "      <th>Moeda</th>\n",
       "      <th>Valor_anuncio</th>\n",
       "      <th>Tipo</th>\n",
       "    </tr>\n",
       "  </thead>\n",
       "  <tbody>\n",
       "    <tr>\n",
       "      <th>0</th>\n",
       "      <td>Avenida Itacira, 255</td>\n",
       "      <td>Planalto Paulista</td>\n",
       "      <td>São Paulo</td>\n",
       "      <td>1000</td>\n",
       "      <td>4</td>\n",
       "      <td>8</td>\n",
       "      <td>6</td>\n",
       "      <td>R$ 7.000.000</td>\n",
       "      <td>R$</td>\n",
       "      <td>7.000.000</td>\n",
       "      <td>None</td>\n",
       "    </tr>\n",
       "    <tr>\n",
       "      <th>1</th>\n",
       "      <td>Rua Aurelia Perez Alvarez, 42</td>\n",
       "      <td>Jardim dos Estados</td>\n",
       "      <td>São Paulo</td>\n",
       "      <td>496</td>\n",
       "      <td>4</td>\n",
       "      <td>4</td>\n",
       "      <td>4</td>\n",
       "      <td>R$ 3.700.000</td>\n",
       "      <td>R$</td>\n",
       "      <td>3.700.000</td>\n",
       "      <td>None</td>\n",
       "    </tr>\n",
       "    <tr>\n",
       "      <th>2</th>\n",
       "      <td>Rua Alba Valdez</td>\n",
       "      <td>Jardim Reimberg</td>\n",
       "      <td>São Paulo</td>\n",
       "      <td>125</td>\n",
       "      <td>4</td>\n",
       "      <td>3</td>\n",
       "      <td>2</td>\n",
       "      <td>R$ 380.000</td>\n",
       "      <td>R$</td>\n",
       "      <td>380.000</td>\n",
       "      <td>None</td>\n",
       "    </tr>\n",
       "    <tr>\n",
       "      <th>3</th>\n",
       "      <td>NaN</td>\n",
       "      <td>Jardim Morumbi</td>\n",
       "      <td>São Paulo</td>\n",
       "      <td>310</td>\n",
       "      <td>3</td>\n",
       "      <td>2</td>\n",
       "      <td>4</td>\n",
       "      <td>R$ 685.000</td>\n",
       "      <td>R$</td>\n",
       "      <td>685.000</td>\n",
       "      <td>None</td>\n",
       "    </tr>\n",
       "    <tr>\n",
       "      <th>4</th>\n",
       "      <td>Rua Tobias Barreto, 195</td>\n",
       "      <td>Mooca</td>\n",
       "      <td>São Paulo</td>\n",
       "      <td>100</td>\n",
       "      <td>3</td>\n",
       "      <td>2</td>\n",
       "      <td>2</td>\n",
       "      <td>R$ 540.000</td>\n",
       "      <td>R$</td>\n",
       "      <td>540.000</td>\n",
       "      <td>None</td>\n",
       "    </tr>\n",
       "  </tbody>\n",
       "</table>\n",
       "</div>"
      ],
      "text/plain": [
       "                              Rua              Bairro     Cidade  Metragem  \\\n",
       "0           Avenida Itacira, 255    Planalto Paulista  São Paulo      1000   \n",
       "1  Rua Aurelia Perez Alvarez, 42   Jardim dos Estados  São Paulo       496   \n",
       "2                 Rua Alba Valdez     Jardim Reimberg  São Paulo       125   \n",
       "3                             NaN      Jardim Morumbi  São Paulo       310   \n",
       "4        Rua Tobias Barreto, 195                Mooca  São Paulo       100   \n",
       "\n",
       "   Quartos  Banheiros  Vagas         Valor Moeda Valor_anuncio  Tipo  \n",
       "0        4          8      6  R$ 7.000.000    R$     7.000.000  None  \n",
       "1        4          4      4  R$ 3.700.000    R$     3.700.000  None  \n",
       "2        4          3      2    R$ 380.000    R$       380.000  None  \n",
       "3        3          2      4    R$ 685.000    R$       685.000  None  \n",
       "4        3          2      2    R$ 540.000    R$       540.000  None  "
      ]
     },
     "execution_count": 44,
     "metadata": {},
     "output_type": "execute_result"
    }
   ],
   "source": [
    "# Separando a coluna 'Valor'\n",
    "# Com o 'split' estamos separando os dados\n",
    "# O 'expand = True' estamos criando colunas para os dados separados\n",
    "# E então estamos inserindo no nosso dataset colocando nomes para cada colunas\n",
    "dataset[['Moeda', 'Valor_anuncio', 'Tipo']] = dataset['Valor'].str.split(expand = True)\n",
    "dataset.head()"
   ]
  },
  {
   "cell_type": "code",
   "execution_count": 45,
   "id": "a5ff5894",
   "metadata": {},
   "outputs": [
    {
     "data": {
      "text/plain": [
       "array([None, '/Mês', '/Ano', '/Dia'], dtype=object)"
      ]
     },
     "execution_count": 45,
     "metadata": {},
     "output_type": "execute_result"
    }
   ],
   "source": [
    "#Verificando que existe tipo 'Mes, Ano, Dia' no nosso dataset'Tipo' então iremos remover pois se trata de aluguéis.\n",
    "dataset['Tipo'].unique()"
   ]
  },
  {
   "cell_type": "code",
   "execution_count": 46,
   "id": "91c9575d",
   "metadata": {},
   "outputs": [],
   "source": [
    "#Inserindo apenas os dados em que o Tipo é 'None' no nosso dataset\n",
    "dataset = dataset[dataset['Tipo'].isnull()]"
   ]
  },
  {
   "cell_type": "code",
   "execution_count": 47,
   "id": "f434574c",
   "metadata": {},
   "outputs": [
    {
     "name": "stderr",
     "output_type": "stream",
     "text": [
      "<ipython-input-47-bc4bf7ffeed7>:2: FutureWarning: The default value of regex will change from True to False in a future version. In addition, single character regular expressions will*not* be treated as literal strings when regex=True.\n",
      "  dataset['Valor_anuncio'] = dataset['Valor_anuncio'].str.replace('.', '')\n"
     ]
    }
   ],
   "source": [
    "#Removendo o '.' da coluna 'Valor_anuncio'\n",
    "dataset['Valor_anuncio'] = dataset['Valor_anuncio'].str.replace('.', '')"
   ]
  },
  {
   "cell_type": "code",
   "execution_count": 48,
   "id": "3f599ae2",
   "metadata": {},
   "outputs": [],
   "source": [
    "#Convertendo do tipo 'object' para 'float'\n",
    "dataset['Valor_anuncio'] = dataset['Valor_anuncio'].astype(float)"
   ]
  },
  {
   "cell_type": "code",
   "execution_count": 49,
   "id": "210d9d98",
   "metadata": {},
   "outputs": [
    {
     "name": "stdout",
     "output_type": "stream",
     "text": [
      "<class 'pandas.core.frame.DataFrame'>\n",
      "Int64Index: 9156 entries, 0 to 10007\n",
      "Data columns (total 11 columns):\n",
      " #   Column         Non-Null Count  Dtype  \n",
      "---  ------         --------------  -----  \n",
      " 0   Rua            6107 non-null   object \n",
      " 1   Bairro         9146 non-null   object \n",
      " 2   Cidade         9156 non-null   object \n",
      " 3   Metragem       9156 non-null   int64  \n",
      " 4   Quartos        9156 non-null   int64  \n",
      " 5   Banheiros      9156 non-null   int64  \n",
      " 6   Vagas          9156 non-null   int64  \n",
      " 7   Valor          9156 non-null   object \n",
      " 8   Moeda          9156 non-null   object \n",
      " 9   Valor_anuncio  9156 non-null   float64\n",
      " 10  Tipo           0 non-null      object \n",
      "dtypes: float64(1), int64(4), object(6)\n",
      "memory usage: 858.4+ KB\n"
     ]
    }
   ],
   "source": [
    "dataset.info()"
   ]
  },
  {
   "cell_type": "code",
   "execution_count": 50,
   "id": "8225845d",
   "metadata": {},
   "outputs": [
    {
     "data": {
      "text/plain": [
       "<AxesSubplot:ylabel='Frequency'>"
      ]
     },
     "execution_count": 50,
     "metadata": {},
     "output_type": "execute_result"
    },
    {
     "data": {
      "image/png": "[encoded data removed]",
      "text/plain": [
       "<Figure size 432x288 with 1 Axes>"
      ]
     },
     "metadata": {
      "needs_background": "light"
     },
     "output_type": "display_data"
    }
   ],
   "source": [
    "#Histograma do 'Valor_anuncio'\n",
    "dataset['Valor_anuncio'].plot.hist(bins=30)"
   ]
  },
  {
   "cell_type": "code",
   "execution_count": 51,
   "id": "9f965855",
   "metadata": {},
   "outputs": [
    {
     "data": {
      "text/plain": [
       "(0.0, 10000000.0)"
      ]
     },
     "execution_count": 51,
     "metadata": {},
     "output_type": "execute_result"
    },
    {
     "data": {
      "image/png": "[encoded data removed]",
      "text/plain": [
       "<Figure size 576x432 with 1 Axes>"
      ]
     },
     "metadata": {
      "needs_background": "light"
     },
     "output_type": "display_data"
    }
   ],
   "source": [
    "#Histograma do 'Valor_anuncio' usando a biblioteca 'seaborn'\n",
    "#'figsize' para mudar o tamanho da imagem\n",
    "#'kde = True', para aparecer a linha de curva\n",
    "#'xlim' para mudar o eixo x\n",
    "plt.figure(figsize=(8,6))\n",
    "ax = sns.histplot(data=dataset, x='Valor_anuncio', kde=True)\n",
    "ax.set_title('Título')\n",
    "plt.xlim(0, 10000000)"
   ]
  },
  {
   "cell_type": "code",
   "execution_count": null,
   "id": "02e87d8c",
   "metadata": {},
   "outputs": [],
   "source": []
  },
  {
   "cell_type": "code",
   "execution_count": null,
   "id": "2936979e",
   "metadata": {},
   "outputs": [],
   "source": []
  },
  {
   "cell_type": "code",
   "execution_count": null,
   "id": "8ffbd48f",
   "metadata": {},
   "outputs": [],
   "source": []
  },
  {
   "cell_type": "markdown",
   "id": "28f90e6f",
   "metadata": {},
   "source": [
    "### Desafios"
   ]
  },
  {
   "cell_type": "markdown",
   "id": "4729a28b",
   "metadata": {},
   "source": [
    "#### Realizar a média da metragem para cada um dos bairros"
   ]
  },
  {
   "cell_type": "code",
   "execution_count": 52,
   "id": "0fedce09",
   "metadata": {},
   "outputs": [
    {
     "data": {
      "text/plain": [
       "Bairro\n",
       "Aclimação            246.164557\n",
       "Alto da Boa Vista    418.875000\n",
       "Alto da Lapa         299.250000\n",
       "Alto da Mooca        270.050000\n",
       "Alto de Pinheiros    429.853659\n",
       "                        ...    \n",
       "Vila Água Funda      152.200000\n",
       "Água Branca          173.583333\n",
       "Água Fria            165.416667\n",
       "Água Funda           139.000000\n",
       "Água Rasa            186.166667\n",
       "Name: Metragem, Length: 697, dtype: float64"
      ]
     },
     "execution_count": 52,
     "metadata": {},
     "output_type": "execute_result"
    }
   ],
   "source": [
    "bairros_d = dataset.groupby('Bairro')\n",
    "bairros_d['Metragem'].mean()"
   ]
  },
  {
   "cell_type": "markdown",
   "id": "4725786c",
   "metadata": {},
   "source": [
    "#### Pegar outras estatísticas dos dados (como média, mediana, mim, max)"
   ]
  },
  {
   "cell_type": "code",
   "execution_count": 53,
   "id": "093f63f6",
   "metadata": {},
   "outputs": [
    {
     "data": {
      "text/html": [
       "<div>\n",
       "<style scoped>\n",
       "    .dataframe tbody tr th:only-of-type {\n",
       "        vertical-align: middle;\n",
       "    }\n",
       "\n",
       "    .dataframe tbody tr th {\n",
       "        vertical-align: top;\n",
       "    }\n",
       "\n",
       "    .dataframe thead th {\n",
       "        text-align: right;\n",
       "    }\n",
       "</style>\n",
       "<table border=\"1\" class=\"dataframe\">\n",
       "  <thead>\n",
       "    <tr style=\"text-align: right;\">\n",
       "      <th></th>\n",
       "      <th>Metragem</th>\n",
       "      <th>Quartos</th>\n",
       "      <th>Banheiros</th>\n",
       "      <th>Vagas</th>\n",
       "      <th>Valor_anuncio</th>\n",
       "    </tr>\n",
       "  </thead>\n",
       "  <tbody>\n",
       "    <tr>\n",
       "      <th>count</th>\n",
       "      <td>9156.000000</td>\n",
       "      <td>9156.000000</td>\n",
       "      <td>9156.000000</td>\n",
       "      <td>9156.000000</td>\n",
       "      <td>9.156000e+03</td>\n",
       "    </tr>\n",
       "    <tr>\n",
       "      <th>mean</th>\n",
       "      <td>434.416230</td>\n",
       "      <td>3.446811</td>\n",
       "      <td>3.797073</td>\n",
       "      <td>3.960135</td>\n",
       "      <td>3.052203e+06</td>\n",
       "    </tr>\n",
       "    <tr>\n",
       "      <th>std</th>\n",
       "      <td>7856.422978</td>\n",
       "      <td>1.048944</td>\n",
       "      <td>1.967873</td>\n",
       "      <td>2.601022</td>\n",
       "      <td>3.944208e+06</td>\n",
       "    </tr>\n",
       "    <tr>\n",
       "      <th>min</th>\n",
       "      <td>10.000000</td>\n",
       "      <td>1.000000</td>\n",
       "      <td>1.000000</td>\n",
       "      <td>1.000000</td>\n",
       "      <td>1.300000e+04</td>\n",
       "    </tr>\n",
       "    <tr>\n",
       "      <th>25%</th>\n",
       "      <td>168.000000</td>\n",
       "      <td>3.000000</td>\n",
       "      <td>2.000000</td>\n",
       "      <td>2.000000</td>\n",
       "      <td>8.900000e+05</td>\n",
       "    </tr>\n",
       "    <tr>\n",
       "      <th>50%</th>\n",
       "      <td>276.000000</td>\n",
       "      <td>3.000000</td>\n",
       "      <td>4.000000</td>\n",
       "      <td>4.000000</td>\n",
       "      <td>1.800000e+06</td>\n",
       "    </tr>\n",
       "    <tr>\n",
       "      <th>75%</th>\n",
       "      <td>450.000000</td>\n",
       "      <td>4.000000</td>\n",
       "      <td>5.000000</td>\n",
       "      <td>5.000000</td>\n",
       "      <td>3.500000e+06</td>\n",
       "    </tr>\n",
       "    <tr>\n",
       "      <th>max</th>\n",
       "      <td>750000.000000</td>\n",
       "      <td>16.000000</td>\n",
       "      <td>40.000000</td>\n",
       "      <td>50.000000</td>\n",
       "      <td>6.500000e+07</td>\n",
       "    </tr>\n",
       "  </tbody>\n",
       "</table>\n",
       "</div>"
      ],
      "text/plain": [
       "            Metragem      Quartos    Banheiros        Vagas  Valor_anuncio\n",
       "count    9156.000000  9156.000000  9156.000000  9156.000000   9.156000e+03\n",
       "mean      434.416230     3.446811     3.797073     3.960135   3.052203e+06\n",
       "std      7856.422978     1.048944     1.967873     2.601022   3.944208e+06\n",
       "min        10.000000     1.000000     1.000000     1.000000   1.300000e+04\n",
       "25%       168.000000     3.000000     2.000000     2.000000   8.900000e+05\n",
       "50%       276.000000     3.000000     4.000000     4.000000   1.800000e+06\n",
       "75%       450.000000     4.000000     5.000000     5.000000   3.500000e+06\n",
       "max    750000.000000    16.000000    40.000000    50.000000   6.500000e+07"
      ]
     },
     "execution_count": 53,
     "metadata": {},
     "output_type": "execute_result"
    }
   ],
   "source": [
    "dataset.describe()"
   ]
  },
  {
   "cell_type": "markdown",
   "id": "8426ba32",
   "metadata": {},
   "source": [
    "#### Descobrir quais são os bairros que não tem nome de rua"
   ]
  },
  {
   "cell_type": "code",
   "execution_count": 54,
   "id": "6fe3d065",
   "metadata": {},
   "outputs": [
    {
     "data": {
      "text/plain": [
       "['Jardim Morumbi',\n",
       " 'Jardim Luzitânia',\n",
       " 'Parque da Lapa',\n",
       " 'Chácara Santo Antônio (Zona Sul)',\n",
       " 'Jardim Guedala',\n",
       " 'Vila Arriete',\n",
       " 'Alto de Pinheiros',\n",
       " 'Planalto Paulista',\n",
       " 'Vila Moinho Velho',\n",
       " 'Brooklin Paulista',\n",
       " 'Sumaré',\n",
       " 'Jardim Paulista',\n",
       " 'Vila Gustavo',\n",
       " 'Jardim Trussardi',\n",
       " 'Vila Madalena',\n",
       " 'Jardim dos Estados',\n",
       " 'Vila Santos',\n",
       " 'Jardim Europa',\n",
       " 'Butantã',\n",
       " 'Jardim Petrópolis',\n",
       " 'Vila Mariana',\n",
       " 'Vila Aparecida',\n",
       " 'Siciliano',\n",
       " 'Alto da Lapa',\n",
       " 'Jardim da Glória',\n",
       " 'Vila Ida',\n",
       " 'Cidade Jardim',\n",
       " 'Cidade Dutra',\n",
       " 'Água Fria',\n",
       " 'Parque Boturussu',\n",
       " 'Belenzinho',\n",
       " 'Jardim Panorama',\n",
       " 'Jardim Ampliação',\n",
       " 'Lauzane Paulista',\n",
       " 'Vila Sabrina',\n",
       " 'Vila Olímpia',\n",
       " 'Jardim Franca',\n",
       " 'Santo Amaro',\n",
       " 'Mooca',\n",
       " 'Jardim América',\n",
       " 'Pacaembu',\n",
       " 'Jardim Santo Amaro',\n",
       " 'Vila Matilde',\n",
       " 'Vila Prudente',\n",
       " 'Vila Nova Conceição',\n",
       " 'Jardim Camargo Novo',\n",
       " 'Jardim Planalto',\n",
       " 'Santana',\n",
       " 'Jardim Patente Novo',\n",
       " 'Jardim das Camélias',\n",
       " 'Jardim Virginia Bianca',\n",
       " 'Jardim Viana',\n",
       " 'Jardim Célia (Zona Sul)',\n",
       " 'Morumbi',\n",
       " 'Parque Guarani',\n",
       " 'Vila Brasilina',\n",
       " 'Vila Antonieta',\n",
       " 'Vila Ema',\n",
       " 'Boaçava',\n",
       " 'Vila Morse',\n",
       " 'Itaim Bibi',\n",
       " 'Conjunto Residencial Vista Verde',\n",
       " 'Jardim Paulistano',\n",
       " 'Parque São Domingos',\n",
       " 'Jardim Leonor',\n",
       " 'Vila Albertina',\n",
       " 'Jardim Santo Elias',\n",
       " 'Chácara Japonesa',\n",
       " 'Penha de França',\n",
       " 'Chácara Inglesa',\n",
       " 'City América',\n",
       " 'Pinheiros',\n",
       " 'Ipiranga',\n",
       " 'Jardim Everest',\n",
       " 'Vila Londrina',\n",
       " 'Vila Santa Maria',\n",
       " 'Cidade São Mateus',\n",
       " 'Paraíso',\n",
       " 'Tucuruvi',\n",
       " 'Vila Bertioga',\n",
       " 'Vila Cláudia',\n",
       " 'Vila Inah',\n",
       " 'Jardim Cordeiro',\n",
       " 'Fazenda Morumbi',\n",
       " 'Cidade Patriarca',\n",
       " 'Jardim Santa Maria',\n",
       " 'Chácara Monte Alegre',\n",
       " 'Vila Morumbi',\n",
       " 'Parque Continental',\n",
       " 'Vila Sílvia',\n",
       " 'Bosque da Saúde',\n",
       " 'Jardim Celeste',\n",
       " 'Vila Comercial',\n",
       " 'Vila Monumento',\n",
       " 'Vila Gea',\n",
       " 'Vila Lageado',\n",
       " 'Vila Perus',\n",
       " 'Jardim Satélite',\n",
       " 'Cidade Monções',\n",
       " 'Vila Sônia',\n",
       " 'Paineiras do Morumbi',\n",
       " 'Lapa de Baixo',\n",
       " 'Vila Araguaia',\n",
       " 'Vila Lúcia',\n",
       " 'Granja Julieta',\n",
       " 'Indianópolis',\n",
       " 'Jardim Prudência',\n",
       " 'Vila São Francisco',\n",
       " 'Lar São Paulo',\n",
       " 'Brooklin Novo',\n",
       " 'Perdizes',\n",
       " 'Cambuci',\n",
       " 'Vila Palmeiras',\n",
       " 'Chácara Califórnia',\n",
       " 'Campo Belo',\n",
       " 'Instituto de Previdência',\n",
       " 'Vila Pompéia',\n",
       " 'Jardim Umuarama',\n",
       " 'Jardim Marajoara',\n",
       " 'Parque Colonial',\n",
       " 'Vila Progredior',\n",
       " 'Vila Leopoldina',\n",
       " 'Jardim Novo Mundo',\n",
       " 'Vila Tramontano',\n",
       " 'Jardim das Bandeiras',\n",
       " 'Vila Cordeiro',\n",
       " 'Lapa',\n",
       " 'Vila Guarani (Z Sul)',\n",
       " 'Vila Cruzeiro',\n",
       " 'Sumarezinho',\n",
       " 'Itaberaba',\n",
       " 'Vila Salete',\n",
       " 'Chora Menino',\n",
       " 'Vila Campo Grande',\n",
       " 'Jardim Ana Maria',\n",
       " 'Vila Nova Caledonia',\n",
       " 'Vila Carbone',\n",
       " 'Vila Adalgisa',\n",
       " 'Mirandópolis',\n",
       " 'Jardim Monte Kemel',\n",
       " 'Jardim Bonfiglioli',\n",
       " 'Jardim Ester',\n",
       " 'Interlagos',\n",
       " 'Vila São Silvestre',\n",
       " 'Retiro Morumbi',\n",
       " 'Chácara Tatuapé',\n",
       " 'Real Parque',\n",
       " 'Jardim Vila Mariana',\n",
       " \"Jardim Panorama D'Oeste\",\n",
       " 'Vila Suzana',\n",
       " 'Santa Cecília',\n",
       " 'Parque Residencial Oratorio',\n",
       " 'Jardim Santa Cruz (Campo Grande)',\n",
       " 'Jardim Triana',\n",
       " 'Caxingui',\n",
       " 'Moema',\n",
       " 'Consolação',\n",
       " 'Cidade Centenário',\n",
       " 'Jaguaré',\n",
       " 'Jardim Miriam',\n",
       " 'Vila Oratório',\n",
       " 'Higienópolis',\n",
       " 'Vila Clementino',\n",
       " 'Vila Ipojuca',\n",
       " 'Barra Funda',\n",
       " 'Jardim Petropolis',\n",
       " 'Vila Jacuí',\n",
       " 'Vila Califórnia(Zona Sul)',\n",
       " 'Vila Mafra',\n",
       " 'Jardim Sílvia (Zona Oeste)',\n",
       " 'Vila Anhangüera',\n",
       " 'Jardim Consórcio',\n",
       " 'Vila Alpina',\n",
       " 'Jardim Rizzo',\n",
       " 'Vila Império',\n",
       " 'Vila Inglesa',\n",
       " 'Vila Nova Curuçá',\n",
       " 'Vila Paiva',\n",
       " 'Jardim Analia Franco',\n",
       " 'Saúde',\n",
       " 'Vila Prado',\n",
       " 'Tatuapé',\n",
       " 'Aclimação',\n",
       " 'Jardim Eliana',\n",
       " 'Paraíso do Morumbi',\n",
       " 'Jardim Teresa',\n",
       " 'Jardim Brasília (Zona Leste)',\n",
       " 'Jardim Danfer',\n",
       " 'Vila Romana',\n",
       " 'Vila Pedroso',\n",
       " 'Vila Brasílio Machado',\n",
       " 'Vila Anglo Brasileira',\n",
       " 'Jardim Vitória Régia',\n",
       " 'Vila Antônio',\n",
       " 'Chácara Meyer',\n",
       " 'Vila Paulicéia',\n",
       " 'Rio Pequeno',\n",
       " 'Jardim Taboão',\n",
       " 'Parque Mandaqui',\n",
       " 'Capão Redondo',\n",
       " 'Vila Alexandria',\n",
       " 'Super Quadra Morumbi',\n",
       " 'Vila Ré',\n",
       " 'Parque Jabaquara',\n",
       " 'Jardim Londrina',\n",
       " 'Parque Novo Mundo',\n",
       " 'Jardim das Acácias',\n",
       " 'Vila Cardoso Franco',\n",
       " 'Jardim Campo Grande',\n",
       " 'Jardim Textil',\n",
       " 'Vila Mazzei',\n",
       " 'Vila Andrade',\n",
       " 'Jardim da Saúde',\n",
       " 'Jardim Colombo',\n",
       " 'Vila Nair',\n",
       " 'Quinta da Paineira',\n",
       " 'Jardim Gonzaga',\n",
       " 'Liberdade',\n",
       " 'Vila Carrão',\n",
       " 'Jardim Brasil (Zona Sul)',\n",
       " 'Parque São Lucas',\n",
       " 'Jardim Floresta',\n",
       " 'Chácara Mafalda',\n",
       " 'Vila ESão Pauloerança',\n",
       " 'Alto da Boa Vista',\n",
       " 'Vila Medeiros',\n",
       " 'Vila América',\n",
       " 'Vila Analia',\n",
       " 'Parque Santa Rita',\n",
       " 'Vila Moraes',\n",
       " 'Vila Rui Barbosa',\n",
       " 'Vila Bela',\n",
       " 'Jardim Amália',\n",
       " 'Parque da Vila Prudente',\n",
       " 'Vila Santana',\n",
       " 'Vila Canero',\n",
       " 'Vila Primavera',\n",
       " 'Brasilândia',\n",
       " 'Vila do Encontro',\n",
       " 'Jardim Ernestina',\n",
       " 'Jabaquara',\n",
       " 'Jardim Maria Duarte',\n",
       " 'Cidade Vargas',\n",
       " 'Jardim Hípico',\n",
       " 'Parada XV de Novembro',\n",
       " 'Jardim Bélgica',\n",
       " 'Vila Formosa',\n",
       " 'Jardim São Carlos (Zona Sul)',\n",
       " 'Parque dos Príncipes',\n",
       " 'Vila Gomes Cardim',\n",
       " 'Vila Polopoli',\n",
       " 'Vila Macedópolis',\n",
       " 'Vila Virginia',\n",
       " 'Vila Boaçava',\n",
       " 'Bela Aliança',\n",
       " 'Tremembé',\n",
       " 'Cerqueira César',\n",
       " 'Jardim Cidade Pirituba',\n",
       " 'Vila Agueda',\n",
       " 'Vila Firmiano Pinto',\n",
       " 'Jardim Monte Alegre',\n",
       " 'Jardim Patente',\n",
       " 'Vila Buenos Aires',\n",
       " 'Jardim Jabaquara',\n",
       " 'Jardim Morro Verde',\n",
       " 'Vila Santa Catarina',\n",
       " 'Vila Califórnia',\n",
       " 'Jardim Ponte Rasa',\n",
       " 'Jardim Marília',\n",
       " 'Vila Guedes',\n",
       " 'Vila Congonhas',\n",
       " 'Jardim Vivan',\n",
       " 'Jardim Vila Carrão',\n",
       " 'Sacomã',\n",
       " 'Jardim Castelo',\n",
       " 'Vila Barbosa',\n",
       " 'Parque Imperial',\n",
       " 'Campininha',\n",
       " 'Jaraguá',\n",
       " 'Jardim Coimbra',\n",
       " 'Jardim Anália Franco',\n",
       " 'Vila Bancária Munhoz',\n",
       " 'Vila Ester (Zona Norte)',\n",
       " 'Brás',\n",
       " 'Alto da Mooca',\n",
       " 'Ferreira',\n",
       " 'Jardim Cidália',\n",
       " 'Cidade Ademar',\n",
       " 'Nova Piraju',\n",
       " \"Jardim D'Abril\",\n",
       " 'Paraisópolis',\n",
       " 'Parque Nações Unidas',\n",
       " 'Vila Gumercindo',\n",
       " 'Jardim Aeroporto',\n",
       " 'Vila Caraguatá',\n",
       " 'Jardim do Colégio (Zona Norte)',\n",
       " 'Parque Peruche',\n",
       " 'Chácara Belenzinho',\n",
       " 'Conjunto Residencial Butantã',\n",
       " 'Vila das Belezas',\n",
       " 'Burgo Paulista',\n",
       " 'Vila Paulista',\n",
       " 'Jardim Japão',\n",
       " 'Praia Paulistinha',\n",
       " 'Vila Antonina',\n",
       " 'Vila Sao Paulo',\n",
       " 'Vila Monte Alegre',\n",
       " 'Jardim Heliomar',\n",
       " 'Jardim Jussara',\n",
       " 'Vila Ivg',\n",
       " 'Vila Curuçá',\n",
       " 'Vila Vera',\n",
       " 'Água Funda',\n",
       " 'Vila Romero',\n",
       " 'Vila Isa',\n",
       " 'Vila Talarico',\n",
       " 'Jardim Peri',\n",
       " 'Vila Dom Pedro I',\n",
       " 'Vila Simone',\n",
       " 'Vila Nivi',\n",
       " 'Vila São Paulo',\n",
       " 'Vila Bela Aliança',\n",
       " 'Vila São José (Ipiranga)',\n",
       " 'Vila Nova Caledônia',\n",
       " 'Parque da Mooca',\n",
       " 'Vila Marieta',\n",
       " 'Vila das Mercês',\n",
       " 'Jardim Sarah',\n",
       " 'Vila Gomes',\n",
       " 'Vila Ayrosa',\n",
       " 'Jardim Dom Bosco',\n",
       " 'Parque Savoy City',\n",
       " 'Jardim Ester Yolanda',\n",
       " 'Vila Elvira',\n",
       " 'Vila Romano',\n",
       " 'Jardim Guarau',\n",
       " 'Vila Santo Estéfano',\n",
       " 'Brooklin',\n",
       " 'Vila Paulo Silas',\n",
       " 'Vila Carmosina',\n",
       " 'Jardim das Vertentes',\n",
       " 'Conjunto Residencial Morada do Sol',\n",
       " 'Jardim Tremembe',\n",
       " 'Parque Casa de Pedra',\n",
       " 'Vila Vasconcelos',\n",
       " 'Jardim Boa Vista (Zona Oeste)',\n",
       " 'Jardim Sul São Paulo',\n",
       " 'Jardim Vergueiro (Sacomã)',\n",
       " 'Jardim Santa Helena',\n",
       " 'Vila Mira',\n",
       " 'Jardim Maria Estela',\n",
       " 'Jardim Rincão',\n",
       " 'Jardim Sabará',\n",
       " 'Aricanduva',\n",
       " 'Jardim Palmares (Zona Sul)',\n",
       " 'Vila Regente Feijó',\n",
       " 'Vila Darli',\n",
       " 'Jardim Nice',\n",
       " 'Vila Constancia',\n",
       " 'Jardim Pirituba',\n",
       " 'Vila Marari',\n",
       " 'Parque Maria Domitila',\n",
       " 'Parque Santo Antônio (Aricanduva)',\n",
       " 'Jardim Cidalia',\n",
       " 'Vila Tiradentes',\n",
       " 'Vila Sonia',\n",
       " 'Vila Gertrudes',\n",
       " 'Parque Edu Chaves',\n",
       " 'Parque São Rafael',\n",
       " 'Conjunto Habitacional Castro Alves',\n",
       " 'Cidade Mãe do Céu',\n",
       " 'Vila da Saúde',\n",
       " 'Itaquera',\n",
       " 'Vila Conde do Pinhal',\n",
       " 'Cidade Domitila',\n",
       " 'Parque Monteiro Soares',\n",
       " 'Jardim Leonor Mendes de Barros',\n",
       " 'Vila Santa Clara',\n",
       " 'Água Branca',\n",
       " 'Sítio do Mandaqui',\n",
       " 'Jardim Independência',\n",
       " 'Vila Nova Pauliceia',\n",
       " 'Cidade Antônio Estevão de Carvalho',\n",
       " 'Vila Maria Alta',\n",
       " 'Vila Ponte Rasa',\n",
       " 'Jardim Guanca',\n",
       " 'Engenheiro Goulart',\n",
       " 'Vila Mascote',\n",
       " 'Jardim Vila Formosa',\n",
       " 'Cupecê',\n",
       " 'Jardim Itacolomi',\n",
       " 'Água Rasa',\n",
       " 'Parque Alves de Lima']"
      ]
     },
     "execution_count": 54,
     "metadata": {},
     "output_type": "execute_result"
    }
   ],
   "source": [
    "nulos_d = dataset['Rua'].isnull()\n",
    "list(dataset[nulos_d].Bairro.unique())"
   ]
  },
  {
   "cell_type": "markdown",
   "id": "1ac0ea12",
   "metadata": {},
   "source": [
    "#### Deixar o gráfico do histograma de valores legível (alterar labels, cores, título, escala)"
   ]
  },
  {
   "cell_type": "code",
   "execution_count": 55,
   "id": "8e15215c",
   "metadata": {},
   "outputs": [
    {
     "data": {
      "text/plain": [
       "(0.0, 10000000.0)"
      ]
     },
     "execution_count": 55,
     "metadata": {},
     "output_type": "execute_result"
    },
    {
     "data": {
      "image/png": "[encoded data removed]",
      "text/plain": [
       "<Figure size 576x432 with 1 Axes>"
      ]
     },
     "metadata": {
      "needs_background": "light"
     },
     "output_type": "display_data"
    }
   ],
   "source": [
    "plt.figure(figsize=(8,6))\n",
    "ax = sns.set_theme(palette='Set1')\n",
    "ax = sns.histplot(data=dataset, x='Valor_anuncio', kde=True)\n",
    "ax.set_title('Frequência dos valores dos imóveis de São Paulo')\n",
    "ax.set_xlabel('Valor')\n",
    "ax.set_ylabel('Quantidade')\n",
    "plt.xlim(0, 10000000)"
   ]
  },
  {
   "cell_type": "markdown",
   "id": "7245be6c",
   "metadata": {},
   "source": [
    "#### Preço do metro quadrado por bairro e plotar em um gráfico ideal"
   ]
  },
  {
   "cell_type": "code",
   "execution_count": 56,
   "id": "c70c04d8",
   "metadata": {},
   "outputs": [
    {
     "data": {
      "text/plain": [
       "Bairro\n",
       "Aclimação             7162.688384\n",
       "Alto da Boa Vista     5708.743659\n",
       "Alto da Lapa          6961.299081\n",
       "Alto da Mooca         4385.002777\n",
       "Alto de Pinheiros    11126.342330\n",
       "                         ...     \n",
       "Vila Água Funda       4283.837057\n",
       "Água Branca           7065.770523\n",
       "Água Fria             5604.534005\n",
       "Água Funda            3920.863309\n",
       "Água Rasa             3846.911370\n",
       "Length: 697, dtype: float64"
      ]
     },
     "execution_count": 56,
     "metadata": {},
     "output_type": "execute_result"
    }
   ],
   "source": [
    "metragem_d = bairros_d['Metragem'].sum()\n",
    "valor_anuncio_d = bairros_d['Valor_anuncio'].sum()\n",
    "metro_quadrado = valor_anuncio_d / metragem_d\n",
    "metro_quadrado"
   ]
  },
  {
   "cell_type": "markdown",
   "id": "b127a949",
   "metadata": {},
   "source": [
    "#### Pesquisar um visualização para analisar os quartis, mediana e outliers"
   ]
  },
  {
   "cell_type": "code",
   "execution_count": 73,
   "id": "e438aac6",
   "metadata": {},
   "outputs": [
    {
     "data": {
      "image/png": "[encoded data removed]",
      "text/plain": [
       "<Figure size 576x720 with 1 Axes>"
      ]
     },
     "metadata": {},
     "output_type": "display_data"
    }
   ],
   "source": [
    "plt.figure(figsize=(8,10))\n",
    "box = sns.boxplot(data=dataset, x='Valor_anuncio')"
   ]
  },
  {
   "cell_type": "code",
   "execution_count": null,
   "id": "36f757be",
   "metadata": {},
   "outputs": [],
   "source": []
  }
 ],
 "metadata": {
  "kernelspec": {
   "display_name": "Python 3",
   "language": "python",
   "name": "python3"
  },
  "language_info": {
   "codemirror_mode": {
    "name": "ipython",
    "version": 3
   },
   "file_extension": ".py",
   "mimetype": "text/x-python",
   "name": "python",
   "nbconvert_exporter": "python",
   "pygments_lexer": "ipython3",
   "version": "3.8.8"
  }
 },
 "nbformat": 4,
 "nbformat_minor": 5
}
