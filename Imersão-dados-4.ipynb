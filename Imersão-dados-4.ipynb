{
 "cells": [
  {
   "cell_type": "markdown",
   "id": "5481723d",
   "metadata": {},
   "source": [
    "# IMERSÃO DADOS 4 - VALORES DE IMÓVEIS"
   ]
  },
  {
   "cell_type": "markdown",
   "id": "07acea99",
   "metadata": {},
   "source": [
    "### DIA 01"
   ]
  },
  {
   "cell_type": "markdown",
   "id": "eccb493f",
   "metadata": {},
   "source": [
    "## IMPORTAÇÃO DE BIBLIOTECAS"
   ]
  },
  {
   "cell_type": "code",
   "execution_count": null,
   "id": "e04e8ba8",
   "metadata": {},
   "outputs": [],
   "source": [
    "import pandas as pd\n",
    "import seaborn as sns\n",
    "import matplotlib.pyplot as plt"
   ]
  },
  {
   "cell_type": "markdown",
   "id": "d915f48e",
   "metadata": {},
   "source": [
    "## IMPORTAÇÃO DO DATASET"
   ]
  },
  {
   "cell_type": "code",
   "execution_count": null,
   "id": "8bc1b5b0",
   "metadata": {},
   "outputs": [],
   "source": [
    "link = 'https://gist.githubusercontent.com/tgcsantos/3bdb29eba6ce391e90df2b72205ba891/raw/22fa920e80c9fa209a9fccc8b52d74cc95d1599b/dados_imoveis.csv'\n",
    "dataset = pd.read_csv(link)\n",
    "dataset.head(11)"
   ]
  },
  {
   "cell_type": "code",
   "execution_count": null,
   "id": "60dce0db",
   "metadata": {},
   "outputs": [],
   "source": [
    "#Visualizar o tamanho do dataset\n",
    "print(f'O dataset possui {dataset.shape[0]} linhas e {dataset.shape[1]} colunas')"
   ]
  },
  {
   "cell_type": "code",
   "execution_count": null,
   "id": "4e6303cf",
   "metadata": {},
   "outputs": [],
   "source": [
    "#Visualizar as colunas do dataset\n",
    "dataset.columns.values"
   ]
  },
  {
   "cell_type": "code",
   "execution_count": null,
   "id": "c6e504f8",
   "metadata": {
    "scrolled": true
   },
   "outputs": [],
   "source": [
    "#Visualizar algumas informações em geral\n",
    "dataset.info()"
   ]
  },
  {
   "cell_type": "code",
   "execution_count": null,
   "id": "58fce731",
   "metadata": {},
   "outputs": [],
   "source": [
    "#Visualizar quantidades de valores nulos\n",
    "dataset.isnull().sum()"
   ]
  },
  {
   "cell_type": "code",
   "execution_count": null,
   "id": "fc04d7ad",
   "metadata": {},
   "outputs": [],
   "source": [
    "#Plot simples de um grafico de barra com os 10 bairros que mais aparecem no dataset\n",
    "qtd_bairros = dataset['Bairro'].value_counts()\n",
    "qtd_bairros.head(10).plot.bar()"
   ]
  },
  {
   "cell_type": "markdown",
   "id": "3c4171ff",
   "metadata": {},
   "source": [
    "### DIA 02 - TRATAMENTO DE DADOS"
   ]
  },
  {
   "cell_type": "code",
   "execution_count": null,
   "id": "ded6b549",
   "metadata": {},
   "outputs": [],
   "source": [
    "# Separando a coluna 'Valor'\n",
    "# Com o 'split' estamos separando os dados\n",
    "# O 'expand = True' estamos criando colunas para os dados separados\n",
    "# E então estamos inserindo no nosso dataset colocando nomes para cada colunas\n",
    "dataset[['Moeda', 'Valor_anuncio', 'Tipo']] = dataset['Valor'].str.split(expand = True)\n",
    "dataset.head()"
   ]
  },
  {
   "cell_type": "code",
   "execution_count": null,
   "id": "a5ff5894",
   "metadata": {},
   "outputs": [],
   "source": [
    "#Verificando que existe tipo 'Mes, Ano, Dia' no nosso dataset'Tipo' então iremos remover pois se trata de aluguéis.\n",
    "dataset['Tipo'].unique()"
   ]
  },
  {
   "cell_type": "code",
   "execution_count": null,
   "id": "91c9575d",
   "metadata": {},
   "outputs": [],
   "source": [
    "#Inserindo apenas os dados em que o Tipo é 'None' no nosso dataset\n",
    "dataset = dataset[dataset['Tipo'].isnull()]"
   ]
  },
  {
   "cell_type": "code",
   "execution_count": null,
   "id": "f434574c",
   "metadata": {},
   "outputs": [],
   "source": [
    "#Removendo o '.' da coluna 'Valor_anuncio'\n",
    "dataset['Valor_anuncio'] = dataset['Valor_anuncio'].str.replace('.', '')"
   ]
  },
  {
   "cell_type": "code",
   "execution_count": null,
   "id": "3f599ae2",
   "metadata": {},
   "outputs": [],
   "source": [
    "#Convertendo do tipo 'object' para 'float'\n",
    "dataset['Valor_anuncio'] = dataset['Valor_anuncio'].astype(float)"
   ]
  },
  {
   "cell_type": "code",
   "execution_count": null,
   "id": "210d9d98",
   "metadata": {},
   "outputs": [],
   "source": [
    "dataset.info()"
   ]
  },
  {
   "cell_type": "code",
   "execution_count": null,
   "id": "8225845d",
   "metadata": {},
   "outputs": [],
   "source": [
    "#Histograma do 'Valor_anuncio'\n",
    "dataset['Valor_anuncio'].plot.hist(bins=30)"
   ]
  },
  {
   "cell_type": "code",
   "execution_count": null,
   "id": "9f965855",
   "metadata": {},
   "outputs": [],
   "source": [
    "#Histograma do 'Valor_anuncio' usando a biblioteca 'seaborn'\n",
    "#'figsize' para mudar o tamanho da imagem\n",
    "#'kde = True', para aparecer a linha de curva\n",
    "#'xlim' para mudar o eixo x\n",
    "plt.figure(figsize=(8,6))\n",
    "ax = sns.histplot(data=dataset, x='Valor_anuncio', kde=True)\n",
    "ax.set_title('Título')\n",
    "plt.xlim(0, 10000000)"
   ]
  },
  {
   "cell_type": "code",
   "execution_count": null,
   "id": "02e87d8c",
   "metadata": {},
   "outputs": [],
   "source": []
  },
  {
   "cell_type": "code",
   "execution_count": null,
   "id": "2936979e",
   "metadata": {},
   "outputs": [],
   "source": []
  },
  {
   "cell_type": "code",
   "execution_count": null,
   "id": "8ffbd48f",
   "metadata": {},
   "outputs": [],
   "source": []
  },
  {
   "cell_type": "markdown",
   "id": "28f90e6f",
   "metadata": {},
   "source": [
    "### Desafios"
   ]
  },
  {
   "cell_type": "markdown",
   "id": "4729a28b",
   "metadata": {},
   "source": [
    "#### Realizar a média da metragem para cada um dos bairros"
   ]
  },
  {
   "cell_type": "code",
   "execution_count": null,
   "id": "0fedce09",
   "metadata": {},
   "outputs": [],
   "source": [
    "bairros_d = dataset.groupby('Bairro')\n",
    "bairros_d['Metragem'].mean()"
   ]
  },
  {
   "cell_type": "markdown",
   "id": "4725786c",
   "metadata": {},
   "source": [
    "#### Pegar outras estatísticas dos dados (como média, mediana, mim, max)"
   ]
  },
  {
   "cell_type": "code",
   "execution_count": null,
   "id": "093f63f6",
   "metadata": {},
   "outputs": [],
   "source": [
    "dataset.describe()"
   ]
  },
  {
   "cell_type": "markdown",
   "id": "8426ba32",
   "metadata": {},
   "source": [
    "#### Descobrir quais são os bairros que não tem nome de rua"
   ]
  },
  {
   "cell_type": "code",
   "execution_count": null,
   "id": "6fe3d065",
   "metadata": {},
   "outputs": [],
   "source": [
    "nulos_d = dataset['Rua'].isnull()\n",
    "list(dataset[nulos].Bairro.unique())"
   ]
  },
  {
   "cell_type": "markdown",
   "id": "1ac0ea12",
   "metadata": {},
   "source": [
    "#### Deixar o gráfico do histograma de valores legível (alterar labels, cores, título, escala)"
   ]
  },
  {
   "cell_type": "code",
   "execution_count": null,
   "id": "8e15215c",
   "metadata": {},
   "outputs": [],
   "source": [
    "plt.figure(figsize=(8,6))\n",
    "ax = sns.set_theme(palette='Set1')\n",
    "ax = sns.histplot(data=dataset, x='Valor_anuncio', kde=True)\n",
    "ax.set_title('Frequência dos valores dos imóveis de São Paulo')\n",
    "ax.set_xlabel('Valor')\n",
    "ax.set_ylabel('Quantidade')\n",
    "plt.xlim(0, 10000000)"
   ]
  },
  {
   "cell_type": "markdown",
   "id": "7245be6c",
   "metadata": {},
   "source": [
    "#### Preço do metro quadrado por bairro e plotar em um gráfico ideal"
   ]
  },
  {
   "cell_type": "code",
   "execution_count": null,
   "id": "c70c04d8",
   "metadata": {},
   "outputs": [],
   "source": [
    "metragem_d = bairros_d['Metragem'].sum()\n",
    "valor_anuncio_d = bairros_d['Valor_anuncio'].sum()\n",
    "metro_quadrado = valor_anuncio_d / metragem_d\n",
    "metro_quadrado"
   ]
  },
  {
   "cell_type": "markdown",
   "id": "b127a949",
   "metadata": {},
   "source": [
    "#### Pesquisar um visualização para analisar os quartis, mediana e outliers"
   ]
  },
  {
   "cell_type": "code",
   "execution_count": null,
   "id": "e438aac6",
   "metadata": {},
   "outputs": [],
   "source": [
    "plt.figure(figsize=(8,10))\n",
    "sns.boxplot(data=dataset, x='Valor_anuncio', )"
   ]
  },
  {
   "cell_type": "code",
   "execution_count": null,
   "id": "c427b6d1",
   "metadata": {},
   "outputs": [],
   "source": []
  }
 ],
 "metadata": {
  "kernelspec": {
   "display_name": "Python 3",
   "language": "python",
   "name": "python3"
  },
  "language_info": {
   "codemirror_mode": {
    "name": "ipython",
    "version": 3
   },
   "file_extension": ".py",
   "mimetype": "text/x-python",
   "name": "python",
   "nbconvert_exporter": "python",
   "pygments_lexer": "ipython3",
   "version": "3.8.8"
  }
 },
 "nbformat": 4,
 "nbformat_minor": 5
}
